{
 "cells": [
  {
   "cell_type": "code",
   "execution_count": 1,
   "id": "cf990eb8",
   "metadata": {},
   "outputs": [],
   "source": [
    "# time series is a data set where values are measured at different points in time"
   ]
  },
  {
   "cell_type": "code",
   "execution_count": 2,
   "id": "a201b1e0",
   "metadata": {},
   "outputs": [],
   "source": [
    "import pandas as pd"
   ]
  },
  {
   "cell_type": "code",
   "execution_count": null,
   "id": "6683b72f",
   "metadata": {},
   "outputs": [],
   "source": [
    "my_Data = pd.read_csv(\"IMDB-Movie-Data.csv\")\n",
    "print(my(data))"
   ]
  }
 ],
 "metadata": {
  "kernelspec": {
   "display_name": "Python 3",
   "language": "python",
   "name": "python3"
  },
  "language_info": {
   "codemirror_mode": {
    "name": "ipython",
    "version": 3
   },
   "file_extension": ".py",
   "mimetype": "text/x-python",
   "name": "python",
   "nbconvert_exporter": "python",
   "pygments_lexer": "ipython3",
   "version": "3.8.8"
  }
 },
 "nbformat": 4,
 "nbformat_minor": 5
}
