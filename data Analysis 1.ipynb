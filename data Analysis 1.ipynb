{
 "cells": [
  {
   "cell_type": "code",
   "execution_count": 1,
   "id": "ae6b1a10",
   "metadata": {},
   "outputs": [],
   "source": [
    "import pandas as pd"
   ]
  },
  {
   "cell_type": "code",
   "execution_count": 2,
   "id": "00407a35",
   "metadata": {},
   "outputs": [],
   "source": [
    "# Converting a list into a data serie\n",
    "first_list=[10,20,30,40]\n",
    "first_serie=pd.Series(first_list)"
   ]
  },
  {
   "cell_type": "code",
   "execution_count": 3,
   "id": "b6a4d03b",
   "metadata": {},
   "outputs": [
    {
     "name": "stdout",
     "output_type": "stream",
     "text": [
      "The series values are : [10 20 30 40]\n"
     ]
    }
   ],
   "source": [
    "# A data serie is like a 2 dimensional array\n",
    "print('The series values are :', first_serie.values)"
   ]
  },
  {
   "cell_type": "code",
   "execution_count": 4,
   "id": "a8feee78",
   "metadata": {},
   "outputs": [
    {
     "name": "stdout",
     "output_type": "stream",
     "text": [
      "The index values of the serie are: [0 1 2 3]\n"
     ]
    }
   ],
   "source": [
    "print('The index values of the serie are:',first_serie.index.values)"
   ]
  },
  {
   "cell_type": "code",
   "execution_count": 10,
   "id": "08044c71",
   "metadata": {},
   "outputs": [],
   "source": [
    "second_serie=pd.Series(first_list,index=[\"Uganda\",'Kenya','Tanzania','Rwanda'])"
   ]
  },
  {
   "cell_type": "code",
   "execution_count": 9,
   "id": "cae32a18",
   "metadata": {
    "scrolled": false
   },
   "outputs": [
    {
     "name": "stdout",
     "output_type": "stream",
     "text": [
      "Drinking competition Uganda      10\n",
      "Kenya       20\n",
      "Tanzania    30\n",
      "Rwanda      40\n",
      "dtype: int64\n"
     ]
    }
   ],
   "source": [
    "print('Drinking competition',second_serie)"
   ]
  },
  {
   "cell_type": "code",
   "execution_count": 7,
   "id": "441977cb",
   "metadata": {},
   "outputs": [
    {
     "name": "stdout",
     "output_type": "stream",
     "text": [
      "Kenya    20\n",
      "dtype: int64\n"
     ]
    }
   ],
   "source": [
    "serie_copy=second_serie[1:2]\n",
    "print(serie_copy)"
   ]
  },
  {
   "cell_type": "code",
   "execution_count": 11,
   "id": "8e5c4479",
   "metadata": {},
   "outputs": [
    {
     "name": "stdout",
     "output_type": "stream",
     "text": [
      "20\n"
     ]
    }
   ],
   "source": [
    "print(second_serie['Kenya'])"
   ]
  },
  {
   "cell_type": "code",
   "execution_count": 12,
   "id": "fa44ba03",
   "metadata": {},
   "outputs": [],
   "source": [
    "# converting a dictionary to a data serie\n",
    "fruits={'apples':10,'bananas':20,'grapes':30,'pineapples':40,'watermelons':50,'kiwi':60,'pawpaws':70,}"
   ]
  },
  {
   "cell_type": "code",
   "execution_count": 13,
   "id": "64c8ed70",
   "metadata": {},
   "outputs": [],
   "source": [
    "third_series=pd.Series(fruits)"
   ]
  },
  {
   "cell_type": "code",
   "execution_count": 14,
   "id": "a50c3ef4",
   "metadata": {},
   "outputs": [
    {
     "name": "stdout",
     "output_type": "stream",
     "text": [
      "Fruits at home \n",
      " apples         10\n",
      "bananas        20\n",
      "grapes         30\n",
      "pineapples     40\n",
      "watermelons    50\n",
      "kiwi           60\n",
      "pawpaws        70\n",
      "dtype: int64\n"
     ]
    }
   ],
   "source": [
    "print('Fruits at home \\n',third_series)"
   ]
  },
  {
   "cell_type": "code",
   "execution_count": 15,
   "id": "514aa083",
   "metadata": {},
   "outputs": [
    {
     "name": "stdout",
     "output_type": "stream",
     "text": [
      "We have 40 pineapples at home\n"
     ]
    }
   ],
   "source": [
    "print('We have',third_series['pineapples'],'pineapples at home')"
   ]
  },
  {
   "cell_type": "code",
   "execution_count": null,
   "id": "370ca363",
   "metadata": {},
   "outputs": [],
   "source": []
  }
 ],
 "metadata": {
  "kernelspec": {
   "display_name": "Python 3",
   "language": "python",
   "name": "python3"
  },
  "language_info": {
   "codemirror_mode": {
    "name": "ipython",
    "version": 3
   },
   "file_extension": ".py",
   "mimetype": "text/x-python",
   "name": "python",
   "nbconvert_exporter": "python",
   "pygments_lexer": "ipython3",
   "version": "3.8.8"
  }
 },
 "nbformat": 4,
 "nbformat_minor": 5
}
