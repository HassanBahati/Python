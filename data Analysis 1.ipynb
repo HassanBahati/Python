{
 "cells": [
  {
   "cell_type": "code",
   "execution_count": 36,
   "id": "7819cec3",
   "metadata": {},
   "outputs": [],
   "source": [
    "import pandas as pd"
   ]
  },
  {
   "cell_type": "code",
   "execution_count": 37,
   "id": "f739d01c",
   "metadata": {},
   "outputs": [],
   "source": [
    "# Converting a list into a data serie\n",
    "first_list=[10,20,30,40]\n",
    "first_serie=pd.Series(first_list)"
   ]
  },
  {
   "cell_type": "code",
   "execution_count": 38,
   "id": "5763c6ee",
   "metadata": {},
   "outputs": [
    {
     "name": "stdout",
     "output_type": "stream",
     "text": [
      "The series values are : [10 20 30 40]\n"
     ]
    }
   ],
   "source": [
    "# A data serie is like a 2 dimensional array\n",
    "print('The series values are :', first_serie.values)"
   ]
  },
  {
   "cell_type": "code",
   "execution_count": 39,
   "id": "5c61a38e",
   "metadata": {},
   "outputs": [
    {
     "name": "stdout",
     "output_type": "stream",
     "text": [
      "The index values of the serie are: [0 1 2 3]\n"
     ]
    }
   ],
   "source": [
    "print('The index values of the serie are:',first_serie.index.values)"
   ]
  },
  {
   "cell_type": "code",
   "execution_count": 40,
   "id": "5e21164b",
   "metadata": {},
   "outputs": [],
   "source": [
    "second_serie=pd.Series(first_list,index=[\"Uganda\",'Kenya','Tanzania','Rwanda'])"
   ]
  },
  {
   "cell_type": "code",
   "execution_count": 41,
   "id": "6a22d6a7",
   "metadata": {
    "scrolled": false
   },
   "outputs": [
    {
     "name": "stdout",
     "output_type": "stream",
     "text": [
      "Drinking competition Uganda      10\n",
      "Kenya       20\n",
      "Tanzania    30\n",
      "Rwanda      40\n",
      "dtype: int64\n"
     ]
    }
   ],
   "source": [
    "print('Drinking competition',second_serie)"
   ]
  },
  {
   "cell_type": "code",
   "execution_count": 42,
   "id": "36ec3d11",
   "metadata": {},
   "outputs": [
    {
     "name": "stdout",
     "output_type": "stream",
     "text": [
      "Kenya    20\n",
      "dtype: int64\n"
     ]
    }
   ],
   "source": [
    "serie_copy=second_serie[1:2]\n",
    "print(serie_copy)"
   ]
  },
  {
   "cell_type": "code",
   "execution_count": 43,
   "id": "7316a108",
   "metadata": {},
   "outputs": [
    {
     "name": "stdout",
     "output_type": "stream",
     "text": [
      "20\n"
     ]
    }
   ],
   "source": [
    "print(second_serie['Kenya'])"
   ]
  },
  {
   "cell_type": "code",
   "execution_count": 44,
   "id": "f487fc30",
   "metadata": {},
   "outputs": [],
   "source": [
    "# converting a dictionary to a data serie\n",
    "fruits={'apples':10,'bananas':20,'grapes':30,'pineapples':40,'watermelons':50,'kiwi':60,'pawpaws':70,}"
   ]
  },
  {
   "cell_type": "code",
   "execution_count": 45,
   "id": "02081afa",
   "metadata": {},
   "outputs": [],
   "source": [
    "third_series=pd.Series(fruits)"
   ]
  },
  {
   "cell_type": "code",
   "execution_count": 46,
   "id": "94d56ec2",
   "metadata": {},
   "outputs": [
    {
     "name": "stdout",
     "output_type": "stream",
     "text": [
      "Fruits at home \n",
      " apples         10\n",
      "bananas        20\n",
      "grapes         30\n",
      "pineapples     40\n",
      "watermelons    50\n",
      "kiwi           60\n",
      "pawpaws        70\n",
      "dtype: int64\n"
     ]
    }
   ],
   "source": [
    "print('Fruits at home \\n',third_series)"
   ]
  },
  {
   "cell_type": "code",
   "execution_count": 48,
   "id": "2e58eb26",
   "metadata": {},
   "outputs": [
    {
     "name": "stdout",
     "output_type": "stream",
     "text": [
      "We have 40 pineapples at home\n"
     ]
    }
   ],
   "source": [
    "print('We have',third_series['pineapples'],'pineapples at home')"
   ]
  },
  {
   "cell_type": "code",
   "execution_count": null,
   "id": "cb199edf",
   "metadata": {},
   "outputs": [],
   "source": []
  },
  {
   "cell_type": "code",
   "execution_count": null,
   "id": "2c53da94",
   "metadata": {},
   "outputs": [],
   "source": []
  },
  {
   "cell_type": "code",
   "execution_count": null,
   "id": "c358e680",
   "metadata": {},
   "outputs": [],
   "source": []
  }
 ],
 "metadata": {
  "kernelspec": {
   "display_name": "Python 3",
   "language": "python",
   "name": "python3"
  },
  "language_info": {
   "codemirror_mode": {
    "name": "ipython",
    "version": 3
   },
   "file_extension": ".py",
   "mimetype": "text/x-python",
   "name": "python",
   "nbconvert_exporter": "python",
   "pygments_lexer": "ipython3",
   "version": "3.8.8"
  }
 },
 "nbformat": 4,
 "nbformat_minor": 5
}
