{
 "cells": [
  {
   "cell_type": "code",
   "execution_count": 2,
   "id": "0edff465",
   "metadata": {},
   "outputs": [],
   "source": [
    "import pandas as pd"
   ]
  },
  {
   "cell_type": "code",
   "execution_count": 9,
   "id": "073f4673",
   "metadata": {},
   "outputs": [
    {
     "name": "stdout",
     "output_type": "stream",
     "text": [
      "Marks obtained by the student are :  Math       45\n",
      "Science    56\n",
      "Geog       86\n",
      "CRE        53\n",
      "Phy        34\n",
      "Comm       61\n",
      "Econ       76\n",
      "dtype: int64\n"
     ]
    }
   ],
   "source": [
    "my_marks = pd.Series([45,56,86,53,34,61, 76], index=[\"Math\", \"Science\", \"Geog\", \"CRE\", \"Phy\", \"Comm\", \"Econ\"])\n",
    "print(\"Marks obtained by the student are : \", my_marks)"
   ]
  },
  {
   "cell_type": "code",
   "execution_count": 8,
   "id": "af6967ab",
   "metadata": {},
   "outputs": [
    {
     "name": "stdout",
     "output_type": "stream",
     "text": [
      "The dataframe created from the data series is: \n",
      "          student1\n",
      "Math           45\n",
      "Science        56\n",
      "Geog           86\n",
      "CRE            53\n",
      "Phy            34\n",
      "Comm           61\n",
      "Econ           76\n"
     ]
    }
   ],
   "source": [
    "df_marks = pd.DataFrame(my_marks, columns = [\"student1\"])\n",
    "print(\"The dataframe created from the data series is: \\n\", df_marks)"
   ]
  },
  {
   "cell_type": "code",
   "execution_count": null,
   "id": "17a4e2d9",
   "metadata": {},
   "outputs": [],
   "source": [
    "#example for heights"
   ]
  },
  {
   "cell_type": "code",
   "execution_count": 13,
   "id": "7b0a3dd5",
   "metadata": {},
   "outputs": [],
   "source": [
    "heights = pd.Series([5.3,5.5,6.1,7.0],index=[\"John\", \"Moses\", \"Fred\", \"Agrey\"])"
   ]
  },
  {
   "cell_type": "code",
   "execution_count": 15,
   "id": "d4a0771b",
   "metadata": {},
   "outputs": [],
   "source": [
    "weights = pd.Series([50,20,10,40],index=[\"John\", \"Moses\", \"Fred\", \"Agrey\"])"
   ]
  },
  {
   "cell_type": "code",
   "execution_count": 19,
   "id": "cb01f6a5",
   "metadata": {},
   "outputs": [
    {
     "name": "stdout",
     "output_type": "stream",
     "text": [
      "The personal details are \n",
      "         Height  Weight\n",
      "John      5.3      50\n",
      "Moses     5.5      20\n",
      "Fred      6.1      10\n",
      "Agrey     7.0      40\n"
     ]
    }
   ],
   "source": [
    "df_person = pd.DataFrame({\"Height\":heights, \"Weight\":weights})\n",
    "print(\"The personal details are \\n \", df_person)"
   ]
  },
  {
   "cell_type": "code",
   "execution_count": null,
   "id": "8eb3de2b",
   "metadata": {},
   "outputs": [],
   "source": []
  },
  {
   "cell_type": "code",
   "execution_count": null,
   "id": "9a4ad8f9",
   "metadata": {},
   "outputs": [],
   "source": []
  }
 ],
 "metadata": {
  "kernelspec": {
   "display_name": "Python 3",
   "language": "python",
   "name": "python3"
  },
  "language_info": {
   "codemirror_mode": {
    "name": "ipython",
    "version": 3
   },
   "file_extension": ".py",
   "mimetype": "text/x-python",
   "name": "python",
   "nbconvert_exporter": "python",
   "pygments_lexer": "ipython3",
   "version": "3.8.8"
  }
 },
 "nbformat": 4,
 "nbformat_minor": 5
}
