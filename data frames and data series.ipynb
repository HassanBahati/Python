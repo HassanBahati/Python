{
 "cells": [
  {
   "cell_type": "code",
   "execution_count": 2,
   "id": "75e81c0e",
   "metadata": {},
   "outputs": [],
   "source": [
    "import pandas as pd"
   ]
  },
  {
   "cell_type": "code",
   "execution_count": 9,
   "id": "2af0725e",
   "metadata": {},
   "outputs": [
    {
     "name": "stdout",
     "output_type": "stream",
     "text": [
      "Marks obtained by the student are :  Math       45\n",
      "Science    56\n",
      "Geog       86\n",
      "CRE        53\n",
      "Phy        34\n",
      "Comm       61\n",
      "Econ       76\n",
      "dtype: int64\n"
     ]
    }
   ],
   "source": [
    "my_marks = pd.Series([45,56,86,53,34,61, 76], index=[\"Math\", \"Science\", \"Geog\", \"CRE\", \"Phy\", \"Comm\", \"Econ\"])\n",
    "print(\"Marks obtained by the student are : \", my_marks)"
   ]
  },
  {
   "cell_type": "code",
   "execution_count": 8,
   "id": "b8cf7fc7",
   "metadata": {},
   "outputs": [
    {
     "name": "stdout",
     "output_type": "stream",
     "text": [
      "The dataframe created from the data series is: \n",
      "          student1\n",
      "Math           45\n",
      "Science        56\n",
      "Geog           86\n",
      "CRE            53\n",
      "Phy            34\n",
      "Comm           61\n",
      "Econ           76\n"
     ]
    }
   ],
   "source": [
    "df_marks = pd.DataFrame(my_marks, columns = [\"student1\"])\n",
    "print(\"The dataframe created from the data series is: \\n\", df_marks)"
   ]
  },
  {
   "cell_type": "code",
   "execution_count": null,
   "id": "8910fdc3",
   "metadata": {},
   "outputs": [],
   "source": [
    "#example for heights"
   ]
  },
  {
   "cell_type": "code",
   "execution_count": null,
   "id": "79b11b7a",
   "metadata": {},
   "outputs": [],
   "source": [
    "heights = pd.Series([5.3,5.5,6.1,])"
   ]
  }
 ],
 "metadata": {
  "kernelspec": {
   "display_name": "Python 3",
   "language": "python",
   "name": "python3"
  },
  "language_info": {
   "codemirror_mode": {
    "name": "ipython",
    "version": 3
   },
   "file_extension": ".py",
   "mimetype": "text/x-python",
   "name": "python",
   "nbconvert_exporter": "python",
   "pygments_lexer": "ipython3",
   "version": "3.8.8"
  }
 },
 "nbformat": 4,
 "nbformat_minor": 5
}
