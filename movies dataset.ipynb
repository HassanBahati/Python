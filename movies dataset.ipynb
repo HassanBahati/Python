{
 "cells": [
  {
   "cell_type": "code",
   "execution_count": 1,
   "id": "3da05c12",
   "metadata": {},
   "outputs": [],
   "source": [
    "#read data from data file "
   ]
  },
  {
   "cell_type": "code",
   "execution_count": null,
   "id": "2839541d",
   "metadata": {},
   "outputs": [],
   "source": [
    "data =  pd.read_csv(IMDB-Movie-Data.csv)"
   ]
  }
 ],
 "metadata": {
  "kernelspec": {
   "display_name": "Python 3",
   "language": "python",
   "name": "python3"
  },
  "language_info": {
   "codemirror_mode": {
    "name": "ipython",
    "version": 3
   },
   "file_extension": ".py",
   "mimetype": "text/x-python",
   "name": "python",
   "nbconvert_exporter": "python",
   "pygments_lexer": "ipython3",
   "version": "3.8.8"
  }
 },
 "nbformat": 4,
 "nbformat_minor": 5
}
