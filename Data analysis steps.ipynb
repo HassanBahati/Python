{
 "cells": [
  {
   "cell_type": "code",
   "execution_count": 1,
   "id": "97df0cfe",
   "metadata": {},
   "outputs": [],
   "source": [
    "# Data analysis steps"
   ]
  },
  {
   "cell_type": "code",
   "execution_count": 3,
   "id": "657360f1",
   "metadata": {},
   "outputs": [],
   "source": [
    "# - [ ] Identify the format of data. \n",
    "# - [ ] Doing data cleansing and preparing data\n",
    "# - [ ] Data modelling and predictions. \n",
    "# - [ ] Data visualisation.\n",
    "# - [ ] Data reporting. "
   ]
  },
  {
   "cell_type": "code",
   "execution_count": null,
   "id": "201db37b",
   "metadata": {},
   "outputs": [],
   "source": []
  }
 ],
 "metadata": {
  "kernelspec": {
   "display_name": "Python 3",
   "language": "python",
   "name": "python3"
  },
  "language_info": {
   "codemirror_mode": {
    "name": "ipython",
    "version": 3
   },
   "file_extension": ".py",
   "mimetype": "text/x-python",
   "name": "python",
   "nbconvert_exporter": "python",
   "pygments_lexer": "ipython3",
   "version": "3.8.8"
  }
 },
 "nbformat": 4,
 "nbformat_minor": 5
}
